{
 "cells": [
  {
   "cell_type": "code",
   "execution_count": 37,
   "id": "d7703c4e-e7d4-4db6-a407-83a54d8418e1",
   "metadata": {},
   "source": [
    "%matplotlib widget\n",
    "import numpy as np\n",
    "import matplotlib.pyplot as plt\n",
    "import h5py\n",
    "from mpl_toolkits import mplot3d\n",
    "import itertools\n",
    "import matplotlib"
   ],
   "outputs": []
  },
  {
   "cell_type": "markdown",
   "id": "a4d8a97f-4f4c-47a9-a748-cdd3281d634a",
   "metadata": {},
   "source": [
    "# View raw point data"
   ]
  },
  {
   "cell_type": "code",
   "execution_count": 38,
   "id": "11c5d9ea-cf63-4721-b815-299948170aa2",
   "metadata": {},
   "source": [
    "with h5py.File('turf.h5', 'r') as fd:\n",
    "    pts = fd['fields/coords'][:]\n",
    "    qoi = fd['fields/ni'][:]  # (Npts, Ndomain, Nsave)\n",
    "    attrs = dict(fd['fields'].attrs)\n",
    "    grid_domain = attrs['grid_domain']\n",
    "    Nx, Ny, Nz = attrs['grid_shape']\n",
    "    dx, dy, dz = attrs['grid_spacing']\n",
    "    dt = attrs['dt'] * attrs['iters_per_save']\n",
    "    Ndomain = attrs['Ndomain']\n",
    "    Nsave = int(attrs['Nsave'])\n",
    "    cmap = 'bwr'\n",
    "    permute_axes = (2, 1, 0, 3, 4)\n",
    "    qoi3d = qoi.reshape((int(Nz / 2), int(Ny / 2), int(Nx / 2), Ndomain, Nsave))     # (Z, Y, X, Ndomain, Nsave)\n",
    "    qoi3d = np.transpose(qoi3d, axes=permute_axes)\n",
    "    pts3d = pts.reshape((int(Nz / 2), int(Ny / 2), int(Nx / 2), Ndim, Ndomain))      # This array comes out as (Z, Y, X, 3d, Ndomain)\n",
    "    pts3d = np.transpose(pts3d, axes=permute_axes)                                   # Now in the order (X,Y,Z, 3d, Ndomain)\n",
    "\n",
    "def plot3d():\n",
    "    fig = plt.figure()\n",
    "    ax = fig.add_subplot(projection='3d')\n",
    "    # ax.axes.set_xlim3d(left=-2, right=10)\n",
    "    # ax.axes.set_ylim3d(bottom=0, top=10)\n",
    "    # ax.axes.set_zlim3d(bottom=0, top=10)\n",
    "    ax.set_xlabel('Axial (x)')\n",
    "    ax.set_ylabel('Radial (y)')\n",
    "    ax.set_zlabel('Transverse (z)')\n",
    "    ax.xaxis.set_pane_color((1, 1, 1, 0))\n",
    "    ax.yaxis.set_pane_color((1, 1, 1, 0))\n",
    "    ax.zaxis.set_pane_color((1, 1, 1, 0))\n",
    "    ax.xaxis._axinfo[\"grid\"]['color'] =  (1,1,1,0)\n",
    "    ax.yaxis._axinfo[\"grid\"]['color'] =  (1,1,1,0)\n",
    "    ax.zaxis._axinfo[\"grid\"]['color'] =  (1,1,1,0)\n",
    "    return fig, ax\n",
    "\n",
    "Ndomain = 8                      # Number of subdomains\n",
    "Ndim = 3                         # Number of physical dimensions\n",
    "pts.shape, qoi.shape, (Nx, Ny, Nz)"
   ],
   "outputs": []
  },
  {
   "cell_type": "code",
   "execution_count": 39,
   "id": "84895e52-9958-4b53-8d93-30fa04ddb540",
   "metadata": {},
   "source": [
    "pts3d.shape, qoi3d.shape"
   ],
   "outputs": []
  },
  {
   "cell_type": "code",
   "execution_count": 64,
   "id": "d2fdfa3f-23d8-44cb-8164-5c4b51b64c25",
   "metadata": {},
   "source": [
    "# Plot the 8 subdomains on one graph\n",
    "fig, ax = plot3d()\n",
    "\n",
    "# Gray dividing planes\n",
    "X, Z = np.meshgrid(np.linspace(-2, 10, 10), np.linspace(0, 10, 10))\n",
    "ax.plot_surface(X, 5, Z, color=(0.5, 0.5, 0.5), alpha=0.3)\n",
    "Y, Z = np.meshgrid(np.linspace(0, 10, 10), np.linspace(0, 10, 10))\n",
    "ax.plot_surface(4, Y, Z, color=(0.5, 0.5, 0.5), alpha=0.3)\n",
    "X, Y = np.meshgrid(np.linspace(-2, 10, 10), np.linspace(0, 10, 10))\n",
    "ax.plot_surface(X, Y, 5*np.ones(X.shape), color=(0.5, 0.5, 0.5), alpha=0.3)\n",
    "\n",
    "# Thruster location\n",
    "ax.scatter(0, 0, 0, color='r', s=40)\n",
    "\n",
    "# Subdomains\n",
    "skip = 100\n",
    "sl = slice(0, pts.shape[0], skip)\n",
    "c = ['r', 'g', 'b', 'c', 'm', 'y', 'sienna', 'lime']\n",
    "labels = ['000', '001', '010', '011', '100', '101', '110', '111']\n",
    "vmin, vmax = np.min(qoi[..., -1]), np.max(qoi[..., -1])\n",
    "for i in range(Ndomain):\n",
    "    # ax.scatter(pts[sl, 0, i], pts[sl, 1, i], pts[sl, 2, i], color=c[i], label=labels[i], alpha=0.2)\n",
    "    sc = ax.scatter(pts[sl, 0, i], pts[sl, 1, i], pts[sl, 2, i], c=qoi[sl, i, -1], label=labels[i], alpha=0.4, cmap='viridis', norm='log', vmin=1, vmax=vmax)\n",
    "    # cb = fig.colorbar(sc, label='Ion density (log10)')"
   ],
   "outputs": []
  },
  {
   "cell_type": "code",
   "execution_count": 41,
   "id": "1f854b86-a5c9-48c3-9229-d5520d8d66b8",
   "metadata": {},
   "source": [
    "# Stick the subdomains together\n",
    "subdomains = list(itertools.product([0, 1], repeat=3))\n",
    "pts_full = np.empty((Nx, Ny, Nz, 3))\n",
    "qoi_full = np.empty((Nx, Ny, Nz, Nsave))\n",
    "sub_shape = (int(Nx/2), int(Ny/2), int(Nz/2))\n",
    "for i, subdomain in enumerate(subdomains):\n",
    "    xs, ys, zs = [ele * sub_shape[j] for j, ele in enumerate(subdomain)]\n",
    "    xe, ye, ze = xs+int(Nx/2), ys+int(Ny/2), zs+int(Nz/2)  # 8 equal cube subdomains\n",
    "    pts_full[xs:xe, ys:ye, zs:ze, :] = pts3d[..., i]\n",
    "    qoi_full[xs:xe, ys:ye, zs:ze, :] = qoi3d[..., i, :]"
   ],
   "outputs": []
  },
  {
   "cell_type": "code",
   "execution_count": 42,
   "id": "a2502565-66a3-4e6a-93bb-e13578b6a61b",
   "metadata": {},
   "source": [
    "qoi_full.shape, pts_full.shape"
   ],
   "outputs": []
  },
  {
   "cell_type": "code",
   "execution_count": 45,
   "id": "88335ec0-9205-4d03-9b32-808b85ea75a6",
   "metadata": {},
   "source": [
    "# Find the indices of nearest slice locations and plot\n",
    "loc = [0, 4, 6]\n",
    "axis = 1\n",
    "slice_idx = []\n",
    "domains = [(grid_domain[i, 0], grid_domain[i, 1]) for i in range(3)]  # For (x,y,z)\n",
    "grids = [np.linspace(lb + grid_spacing[i]/2, ub - grid_spacing[i]/2, grid_shape[i])\n",
    "         for i, (lb, ub) in enumerate(domains)]\n",
    "slice_idx = [int(np.argmin(np.abs(grids[axis] - l))) for l in loc]\n",
    "pts_slice = np.take(pts_full, slice_idx, axis=axis)\n",
    "qoi_slice = np.take(qoi_full, slice_idx, axis=axis)\n",
    "\n",
    "pts_slice.shape, qoi_slice.shape"
   ],
   "outputs": []
  },
  {
   "cell_type": "code",
   "execution_count": 58,
   "id": "ead98c7f-9667-4cc7-8250-092e599f000c",
   "metadata": {},
   "source": [
    "fig, ax = plot3d()\n",
    "colors = plt.get_cmap('jet')(np.linspace(0, 1, len(slice_idx)))\n",
    "for i in range(len(slice_idx)):\n",
    "    X = np.take(pts_slice[..., 0], i, axis=axis)\n",
    "    Y = np.take(pts_slice[..., 1], i, axis=axis)\n",
    "    Z = np.take(pts_slice[..., 2], i, axis=axis)\n",
    "    C = np.take(qoi_slice[..., -1], i, axis=axis)\n",
    "    vmin, vmax = np.min(C), np.max(C)\n",
    "    norm = matplotlib.colors.Normalize(vmin, vmax)\n",
    "    m = plt.cm.ScalarMappable(norm=norm, cmap='viridis')\n",
    "    m.set_array([])\n",
    "    fcolors = m.to_rgba(C)\n",
    "    ax.plot_surface(X, Y, Z, rcount=40, ccount=40, facecolors=fcolors, vmin=vmin, vmax=vmax, shade=False)\n",
    "    # ax.plot_surface(X, Y, Z, color=colors[i], alpha=0.8)"
   ],
   "outputs": []
  },
  {
   "cell_type": "markdown",
   "id": "ccb7d38f-1a0d-4999-89b0-ea652f2a01af",
   "metadata": {},
   "source": [
    "# View ion density data"
   ]
  },
  {
   "cell_type": "code",
   "execution_count": 108,
   "id": "bb75aff4-121a-4a1f-aa2e-e444ac7e8f8c",
   "metadata": {},
   "source": [
    "qoi_plot = np.mean(qoi[..., -20:], axis=-1)  # (Npts, Ndomain)\n",
    "\n",
    "fig, ax = plot3d()\n",
    "X, Z = np.meshgrid(np.linspace(-2, 10, 10), np.linspace(0, 10, 10))\n",
    "ax.plot_surface(X, 5, Z, color=(0.5, 0.5, 0.5), alpha=0.3)\n",
    "Y, Z = np.meshgrid(np.linspace(0, 10, 10), np.linspace(0, 10, 10))\n",
    "ax.plot_surface(4, Y, Z, color=(0.5, 0.5, 0.5), alpha=0.3)\n",
    "X, Y = np.meshgrid(np.linspace(-2, 10, 10), np.linspace(0, 10, 10))\n",
    "ax.plot_surface(X, Y, 5*np.ones(X.shape), color=(0.5, 0.5, 0.5), alpha=0.3)\n",
    "ax.scatter(0, 0, 0, color='r', s=40)\n",
    "\n",
    "# Subdomains\n",
    "skip = 50\n",
    "sl = slice(0, pts.shape[0], skip)\n",
    "c = ['r', 'g', 'b', 'c', 'm', 'y', 'sienna', 'lime']\n",
    "labels = ['000', '001', '010', '011', '100', '101', '110', '111']\n",
    "i = 4\n"
   ],
   "outputs": []
  },
  {
   "cell_type": "code",
   "execution_count": 133,
   "id": "e7558570-a45e-495c-998d-a23fac1e6d58",
   "metadata": {},
   "source": [
    "pts_lst = pts_full.reshape((-1, 3))\n",
    "qoi_lst = qoi_full.reshape((-1))\n",
    "ix = np.random.choice(pts_lst.shape[0], size=10000, replace=False)"
   ],
   "outputs": []
  },
  {
   "cell_type": "code",
   "execution_count": 137,
   "id": "723540f0-b585-4127-8d73-c0c0e75e9413",
   "metadata": {},
   "source": [
    "fig, ax = plot3d()\n",
    "ax.scatter(pts_lst[ix, 0], pts_lst[ix, 1], pts_lst[ix, 2], c=qoi_lst[ix], alpha=0.2, cmap='jet', norm='log')"
   ],
   "outputs": []
  },
  {
   "cell_type": "code",
   "execution_count": 149,
   "id": "0fbfc8b5-2831-4519-a098-b17eb9dfa178",
   "metadata": {},
   "source": [
    "fig, ax = plt.subplots()\n",
    "im = ax.imshow(qoi_slice[:, 0, :].T, cmap='bwr', origin='lower', extent=[-2, 10, 0, 10], norm='log', interpolation='nearest')\n",
    "im.cmap.set_bad(im.cmap.get_under())\n",
    "im.changed()\n",
    "im_ratio = Nz / Nx\n",
    "cb = fig.colorbar(im, label='Ion density', fraction=0.046*im_ratio, pad=0.04)"
   ],
   "outputs": []
  }
 ],
 "metadata": {
  "kernelspec": {
   "display_name": "Python 3 (ipykernel)",
   "language": "python",
   "name": "python3"
  },
  "language_info": {
   "codemirror_mode": {
    "name": "ipython",
    "version": 3
   },
   "file_extension": ".py",
   "mimetype": "text/x-python",
   "name": "python",
   "nbconvert_exporter": "python",
   "pygments_lexer": "ipython3",
   "version": "3.11.9"
  }
 },
 "nbformat": 4,
 "nbformat_minor": 5
}
