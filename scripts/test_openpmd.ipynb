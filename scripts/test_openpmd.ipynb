{
 "cells": [
  {
   "cell_type": "code",
   "execution_count": 1,
   "id": "ba050b78-ad69-420b-b1fd-7fe7f87f4c0e",
   "metadata": {},
   "source": [
    "%matplotlib widget\n",
    "import os\n",
    "import wget, tarfile\n",
    "from pathlib import Path\n",
    "from openpmd_viewer import OpenPMDTimeSeries"
   ],
   "outputs": []
  },
  {
   "cell_type": "code",
   "execution_count": 4,
   "id": "74fa8f7a-4e0d-45a0-9e55-5c4eeb686119",
   "metadata": {},
   "source": [
    "# 2d openpmd example\n",
    "def download_if_absent(name):\n",
    "    if os.path.exists(f'../results/{name}') is False:\n",
    "        tar_name = f\"{name}.tar.gz\"\n",
    "        url = \"https://github.com/openPMD/openPMD-example-datasets/raw/draft/%s\" % tar_name\n",
    "        wget.download(url, f'../results/{tar_name}')\n",
    "        with tarfile.open(f'../results/{tar_name}') as tar_file:\n",
    "            tar_file.extractall(path='../results')\n",
    "        os.remove(f'../results/{tar_name}')\n",
    "download_if_absent('example-2d')\n",
    "ts_2d = OpenPMDTimeSeries(Path('../results/example-2d/hdf5'))\n",
    "ts_2d.slider()"
   ],
   "outputs": []
  },
  {
   "cell_type": "code",
   "execution_count": 5,
   "id": "b6195f82-5ab5-4c3a-9e3b-4a2eb7a52c99",
   "metadata": {},
   "source": [
    "# Warp-x example 2d benchmark\n",
    "warpx = OpenPMDTimeSeries(Path('../results/benchmark2d-1'))"
   ],
   "outputs": []
  },
  {
   "cell_type": "code",
   "execution_count": 6,
   "id": "6da08cc1-168f-459a-b9ca-2a0b41547d53",
   "metadata": {},
   "source": [
    "warpx.slider()"
   ],
   "outputs": []
  },
  {
   "cell_type": "code",
   "execution_count": null,
   "id": "b42bbe16-2650-40d5-8e95-e6235292836f",
   "metadata": {},
   "source": [],
   "outputs": []
  }
 ],
 "metadata": {
  "kernelspec": {
   "display_name": "Python 3 (ipykernel)",
   "language": "python",
   "name": "python3"
  },
  "language_info": {
   "codemirror_mode": {
    "name": "ipython",
    "version": 3
   },
   "file_extension": ".py",
   "mimetype": "text/x-python",
   "name": "python",
   "nbconvert_exporter": "python",
   "pygments_lexer": "ipython3",
   "version": "3.11.9"
  }
 },
 "nbformat": 4,
 "nbformat_minor": 5
}
