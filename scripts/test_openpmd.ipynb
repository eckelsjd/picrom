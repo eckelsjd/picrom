{
 "cells": [
  {
   "cell_type": "code",
   "execution_count": 2,
   "id": "ba050b78-ad69-420b-b1fd-7fe7f87f4c0e",
   "metadata": {},
   "outputs": [],
   "source": [
    "%matplotlib widget\n",
    "import os\n",
    "import wget, tarfile\n",
    "from pathlib import Path\n",
    "from openpmd_viewer import OpenPMDTimeSeries"
   ]
  },
  {
   "cell_type": "code",
   "execution_count": 3,
   "id": "74fa8f7a-4e0d-45a0-9e55-5c4eeb686119",
   "metadata": {},
   "outputs": [],
   "source": [
    "# 2d openpmd example\n",
    "def download_if_absent(name):\n",
    "    if os.path.exists(name) is False:\n",
    "        tar_name = \"%s.tar.gz\" %name\n",
    "        url = \"https://github.com/openPMD/openPMD-example-datasets/raw/draft/%s\" %tar_name\n",
    "        wget.download(url, tar_name)\n",
    "        with tarfile.open(tar_name) as tar_file:\n",
    "            tar_file.extractall()\n",
    "        os.remove(tar_name)\n",
    "download_if_absent('example-2d')\n",
    "ts_2d = OpenPMDTimeSeries(Path('../results/example-2d/hdf5'))\n",
    "ts_2d.slider()"
   ]
  },
  {
   "cell_type": "code",
   "execution_count": null,
   "id": "b6195f82-5ab5-4c3a-9e3b-4a2eb7a52c99",
   "metadata": {},
   "outputs": [],
   "source": [
    "# Warp-x example 2d benchmark\n",
    "warpx = OpenPMDTimeSeries(Path('../results/benchmark2d-1'))"
   ]
  },
  {
   "cell_type": "code",
   "execution_count": null,
   "id": "6da08cc1-168f-459a-b9ca-2a0b41547d53",
   "metadata": {},
   "outputs": [],
   "source": [
    "warpx.slider()"
   ]
  }
 ],
 "metadata": {
  "kernelspec": {
   "display_name": "Python 3 (ipykernel)",
   "language": "python",
   "name": "python3"
  },
  "language_info": {
   "codemirror_mode": {
    "name": "ipython",
    "version": 3
   },
   "file_extension": ".py",
   "mimetype": "text/x-python",
   "name": "python",
   "nbconvert_exporter": "python",
   "pygments_lexer": "ipython3",
   "version": "3.11.7"
  }
 },
 "nbformat": 4,
 "nbformat_minor": 5
}
